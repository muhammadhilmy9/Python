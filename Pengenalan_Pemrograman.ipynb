{
 "cells": [
  {
   "cell_type": "code",
   "execution_count": 12,
   "id": "bd6d997e",
   "metadata": {},
   "outputs": [
    {
     "name": "stdout",
     "output_type": "stream",
     "text": [
      "Masukan angka a:2\n",
      "Masukan angka b: 3\n",
      "Masukan angka c: 5\n",
      "True\n",
      "Nilai C adalah 10\n"
     ]
    }
   ],
   "source": [
    "#Masukan terdiri dari 3 baris, keluaran terdiri dari sebuah boolean yang menyatakan a, b, dan c terurut a<b<c atau tidak\n",
    "#Jika terurut membesar maka cetak True, klo tidak maka False\n",
    "a = input(\"Masukan angka a:\")\n",
    "b = input(\"Masukan angka b: \")\n",
    "c = input(\"Masukan angka c: \")\n",
    "\n",
    "a1= int(a)\n",
    "b1 = int(b)\n",
    "c1 = int(c)\n",
    "\n",
    "if(a1<=b1<=c1):\n",
    "    print(\"True\")\n",
    "else:\n",
    "    print(\"False\")\n",
    "d=a1+b1+c1\n",
    "print(\"Nilai C adalah\",d)\n"
   ]
  },
  {
   "cell_type": "code",
   "execution_count": 11,
   "id": "e30fecc9",
   "metadata": {},
   "outputs": [
    {
     "name": "stdout",
     "output_type": "stream",
     "text": [
      "Masukan angka a:1\n",
      "Masukan angka b: 2\n",
      "Masukan angka c: 3\n",
      "Bilangan Terurut asc\n"
     ]
    }
   ],
   "source": [
    "#Masukan terdiri dari 3 baris, keluaran terdiri dari 'Terurut' atau 'Tidak terurut' yang menyatakan a, b, dan c terurut a<b<c \n",
    "#atau tidak terurut\n",
    "a = input(\"Masukan angka a:\")\n",
    "b = input(\"Masukan angka b: \")\n",
    "c = input(\"Masukan angka c: \")\n",
    "\n",
    "a1= int(a)\n",
    "b1 = int(b)\n",
    "c1 = int(c)\n",
    "\n",
    "if(a1<=b1<=c1):\n",
    "    print(\"Bilangan Terurut asc\")\n",
    "elif(a1>=b1>=c1):\n",
    "    print(\"Bilangan Terutut desc\")\n",
    "else:\n",
    "    print(\"Bilangan Tidak Terurut\")\n",
    " "
   ]
  },
  {
   "cell_type": "code",
   "execution_count": null,
   "id": "a4cd8cb1",
   "metadata": {},
   "outputs": [],
   "source": [
    "#Mengecek kelipatan\n",
    "x=input()\n",
    "y=input()\n",
    "\n",
    "x1=int(x)\n",
    "y1=int(y)\n",
    "\n",
    "if(x1%y1==0):\n",
    "    print (x,\"adalah kelipatan dari\",y)\n",
    "else:\n",
    "    print(x,\"Bukan Kelipatan dari\",y)"
   ]
  },
  {
   "cell_type": "code",
   "execution_count": 18,
   "id": "150faa9a",
   "metadata": {},
   "outputs": [
    {
     "name": "stdout",
     "output_type": "stream",
     "text": [
      "50\n",
      "Bazz\n"
     ]
    }
   ],
   "source": [
    "#jika kelipatan 3 maka'Fizz', klo kelipatan 5 maka 'Bazz'\n",
    "x=input()\n",
    "\n",
    "x1=int(x)\n",
    "\n",
    "if(x1%3==0):\n",
    "    print(\"Fizz\")\n",
    "if(x1%5==0):\n",
    "    print(\"Bazz\")\n"
   ]
  },
  {
   "cell_type": "code",
   "execution_count": 24,
   "id": "0d5971b6",
   "metadata": {},
   "outputs": [
    {
     "name": "stdout",
     "output_type": "stream",
     "text": [
      "8\n",
      "3\n",
      "True\n"
     ]
    }
   ],
   "source": [
    "#5.masukan x dan y, keluaran berupa boolean yg menyatakan hasil integer division x dan y sama dengan x modulo y\n",
    "\n",
    "x=input()\n",
    "y=input()\n",
    "\n",
    "x1=int(x)\n",
    "y1=int(y)\n",
    "\n",
    "if((x1//y1) == (x1%y1)):\n",
    "    print(\"True\")\n",
    "else:\n",
    "    print(\"False\")"
   ]
  },
  {
   "cell_type": "code",
   "execution_count": 11,
   "id": "f623c5cd",
   "metadata": {},
   "outputs": [
    {
     "name": "stdout",
     "output_type": "stream",
     "text": [
      "7\n",
      "7 Bukan Bilangan Genap\n"
     ]
    }
   ],
   "source": [
    "#6. Menentukan bilangan Genap\n",
    "x = input()\n",
    "x1 = int(x)\n",
    "\n",
    "if(x1%2==0):\n",
    "    print(x, \"adalah Bilangan Genap\")\n",
    "else:\n",
    "    print(x,\"Bukan Bilangan Genap\")"
   ]
  },
  {
   "cell_type": "code",
   "execution_count": 13,
   "id": "f28de0ea",
   "metadata": {},
   "outputs": [
    {
     "name": "stdout",
     "output_type": "stream",
     "text": [
      "7\n",
      "49\n",
      "7 adalah akar positif dari 49\n"
     ]
    }
   ],
   "source": [
    "#7. Menentukan akar positif atau bukan dari x dan y\n",
    "x = input()\n",
    "y = input()\n",
    "\n",
    "x1= int(x)\n",
    "y1=int(y)\n",
    "\n",
    "if(x1*x1==y1):\n",
    "    print(x,\"adalah akar positif dari\",y)\n",
    "else:\n",
    "    print(x,\"bukan akar positif dari\",y)"
   ]
  },
  {
   "cell_type": "code",
   "execution_count": 1,
   "id": "6941996b",
   "metadata": {},
   "outputs": [
    {
     "name": "stdout",
     "output_type": "stream",
     "text": [
      "5\n",
      "2\n",
      "*\n",
      "5.0 * 2.0 = 10.0\n"
     ]
    }
   ],
   "source": [
    "#8 2 buah input x dan y, dan z adalah operator. keluaran merupakan hasil operasi\n",
    "x = input()\n",
    "y = input()\n",
    "op= input()\n",
    "\n",
    "x1= float(x)\n",
    "y1= float(y)\n",
    "\n",
    "hasil = 0\n",
    "if(op == \"+\" ):\n",
    "    hasil=x1+y1\n",
    "elif (op == \"-\"):\n",
    "    hasil=x1-y1\n",
    "elif (op == \"*\"):\n",
    "    hasil=x1*y1\n",
    "elif (op == \"/\"):\n",
    "    hasil=x1/y1\n",
    "\n",
    "print(x1,op,y1,\"=\",hasil)"
   ]
  },
  {
   "cell_type": "code",
   "execution_count": 5,
   "id": "8f467b75",
   "metadata": {},
   "outputs": [
    {
     "name": "stdout",
     "output_type": "stream",
     "text": [
      "50\n",
      "12\n",
      "Terbesar =  50 Terkecil= 12\n"
     ]
    }
   ],
   "source": [
    "#9 Menentukan bilangan terkecil dan terbesar dari x dan y\n",
    "x = input()\n",
    "y = input()\n",
    "\n",
    "x1=int(x)\n",
    "y1=int(y)\n",
    "\n",
    "if(x1>y1):\n",
    "    print(\"Terbesar = \",x1,\"Terkecil=\",y1)\n",
    "elif(y1>x1):\n",
    "    print(\"Terbesar = \",y1,\"Terkecil=\",x1)\n"
   ]
  },
  {
   "cell_type": "code",
   "execution_count": 10,
   "id": "affec7d1",
   "metadata": {},
   "outputs": [
    {
     "name": "stdout",
     "output_type": "stream",
     "text": [
      "7\n",
      "Luas lingkaran adalah  154.0\n"
     ]
    }
   ],
   "source": [
    "#10 Mencari luas lingkaran\n",
    "phi = 3.14\n",
    "x = input()\n",
    "\n",
    "r=float(x)\n",
    "\n",
    "if(r % 7 ==0):\n",
    "    l = (22*r*r)/7\n",
    "else:\n",
    "    l=phi*r*r\n",
    "print(\"Luas lingkaran adalah \",l)"
   ]
  },
  {
   "cell_type": "code",
   "execution_count": 14,
   "id": "3f8a5dc4",
   "metadata": {},
   "outputs": [
    {
     "name": "stdout",
     "output_type": "stream",
     "text": [
      "9\n",
      "80\n",
      "mutlak dari bilangan tersebut adalah 71\n"
     ]
    }
   ],
   "source": [
    "#11 Hasil Operasi nilai Mutlak \n",
    "x = input()\n",
    "y = input()\n",
    "\n",
    "x1 = int(x)\n",
    "y1 = int(y)\n",
    "\n",
    "if(x1 > y1):\n",
    "    hasil = x1 - y1\n",
    "else:\n",
    "    hasil = y1 - x1\n",
    "\n",
    "print(\"mutlak dari bilangan tersebut adalah\", hasil)"
   ]
  },
  {
   "cell_type": "code",
   "execution_count": 16,
   "id": "955cf14a",
   "metadata": {},
   "outputs": [
    {
     "name": "stdout",
     "output_type": "stream",
     "text": [
      "3\n",
      "4\n",
      "3\n",
      "Bukan segitiga sama sisi\n"
     ]
    }
   ],
   "source": [
    "#Menentukan segitiga sama sisi\n",
    "x = input()\n",
    "y = input()\n",
    "z = input()\n",
    "\n",
    "s1 = int(x)\n",
    "s2 = int(y)\n",
    "s3 = int(z)\n",
    "\n",
    "if(s1 == s2 == s3):\n",
    "    print(\"Segitiga sama sisi\")\n",
    "else:\n",
    "    print(\"Bukan segitiga sama sisi\")\n",
    "    "
   ]
  }
 ],
 "metadata": {
  "kernelspec": {
   "display_name": "Python 3",
   "language": "python",
   "name": "python3"
  },
  "language_info": {
   "codemirror_mode": {
    "name": "ipython",
    "version": 3
   },
   "file_extension": ".py",
   "mimetype": "text/x-python",
   "name": "python",
   "nbconvert_exporter": "python",
   "pygments_lexer": "ipython3",
   "version": "3.8.8"
  }
 },
 "nbformat": 4,
 "nbformat_minor": 5
}
