{
 "cells": [
  {
   "cell_type": "code",
   "execution_count": 1,
   "id": "ee119453",
   "metadata": {},
   "outputs": [],
   "source": [
    "#1 seorang siswa dikatakan terpuji apabila ia tidak berkelakuan buruk atau berprestasi, dan memiliki nilai rata-rata diatas 80\n",
    "#varibelkelakuan_buruk dan prestasi bernilai Ya atau TIDAK sedangkan rata_rata dalah bilangan berkoma"
   ]
  },
  {
   "cell_type": "code",
   "execution_count": 14,
   "id": "ff56046d",
   "metadata": {},
   "outputs": [
    {
     "name": "stdout",
     "output_type": "stream",
     "text": [
      "TIDAK\n",
      "YA\n",
      "50\n",
      "Maaf, berusaha lebih giat lagi\n"
     ]
    }
   ],
   "source": [
    "kelakuan_buruk = input()\n",
    "prestasi = input()\n",
    "rata_rata = float(input())\n",
    "\n",
    "ekspresi = kelakuan_buruk == \"TIDAK\" and prestasi == \"YA\" and rata_rata > 80\n",
    "if ekspresi == True:\n",
    "    print(\"Selamat anda siswa terpuji\")\n",
    "else:\n",
    "    print(\"Maaf, berusaha lebih giat lagi\")\n"
   ]
  },
  {
   "cell_type": "code",
   "execution_count": 26,
   "id": "c1d90994",
   "metadata": {},
   "outputs": [
    {
     "name": "stdout",
     "output_type": "stream",
     "text": [
      "3\n",
      "3\n",
      "3\n",
      "Sisi Segitiga\n"
     ]
    }
   ],
   "source": [
    "#2 input x1,x2, dan x3, keluaran segitiga jika penjumlahan dari dua buah sisi pasti lebih besar dari sisi lainnya\n",
    "x1 = int(input())\n",
    "x2 = int(input())\n",
    "x3 = int(input())\n",
    "\n",
    "kondisi = (x1+x2>x3) and (x2+x3>x1) and (x1+x3>x2)\n",
    "if kondisi:\n",
    "    print(\"Sisi Segitiga\")\n",
    "else:\n",
    "    print(\"Bukan sisi segitiga\")"
   ]
  },
  {
   "cell_type": "code",
   "execution_count": 32,
   "id": "da78cb07",
   "metadata": {},
   "outputs": [
    {
     "name": "stdout",
     "output_type": "stream",
     "text": [
      "2032\n",
      "True\n"
     ]
    }
   ],
   "source": [
    "#3 Menyatakan tahun kabisat, tahun kabisat adalah tahun yang habis dibagi 400 atau habis dibagi 4 dan tidak habis dibagi 100\n",
    "kabisat = int(input())\n",
    "\n",
    "if (kabisat % 400 == 0) or (kabisat % 4 == 0 ) and (kabisat % 100 != 0):\n",
    "    print(\"True\")\n",
    "else:\n",
    "    print(\"False\")\n"
   ]
  },
  {
   "cell_type": "code",
   "execution_count": 41,
   "id": "cce33f7b",
   "metadata": {},
   "outputs": [
    {
     "name": "stdout",
     "output_type": "stream",
     "text": [
      "tes\n",
      "3\n",
      "tes\n",
      "tes\n",
      "tes\n"
     ]
    }
   ],
   "source": [
    "#4 untuk mencetak kalimat sebanyak yang kita mau\n",
    "teks = input()\n",
    "jumlah_baris = int(input())\n",
    "\n",
    "for i in range (jumlah_baris):\n",
    "    print(teks)"
   ]
  },
  {
   "cell_type": "code",
   "execution_count": 54,
   "id": "ee02a9bb",
   "metadata": {},
   "outputs": [
    {
     "name": "stdout",
     "output_type": "stream",
     "text": [
      "4\n",
      "Perulangan =  1\n",
      "Perulangan =  2\n",
      "Perulangan =  3\n",
      "Perulangan =  4\n"
     ]
    }
   ],
   "source": [
    "#5 untuk menghitung baris yang kita mau\n",
    "\n",
    "angka = int(input())\n",
    "i = 1\n",
    "while i <= angka :\n",
    "    print(\"Perulangan = \",i)\n",
    "    i = i +1"
   ]
  },
  {
   "cell_type": "code",
   "execution_count": 75,
   "id": "d637e3bb",
   "metadata": {},
   "outputs": [
    {
     "name": "stdout",
     "output_type": "stream",
     "text": [
      "43\n",
      "253\n"
     ]
    }
   ],
   "source": [
    "#6 Hasil penjumlahan deret dari 1 sampai N (1+2+3+4+5)\n",
    "\n",
    "angka = int(input())\n",
    "\n",
    "i = 3\n",
    "jumlah =0\n",
    "while i <= angka:\n",
    "    jumlah = jumlah +i\n",
    "    i = i+4\n",
    "print(jumlah)"
   ]
  },
  {
   "cell_type": "code",
   "execution_count": 80,
   "id": "b951da04",
   "metadata": {},
   "outputs": [
    {
     "name": "stdout",
     "output_type": "stream",
     "text": [
      "10\n",
      "2001\n",
      "False\n",
      "2002\n",
      "False\n",
      "2003\n",
      "False\n",
      "2004\n",
      "True\n",
      "2005\n",
      "False\n",
      "2006\n",
      "False\n",
      "2007\n",
      "False\n",
      "2008\n",
      "True\n",
      "2009\n",
      "False\n",
      "2010\n",
      "False\n"
     ]
    }
   ],
   "source": [
    "#7 Menentukan tahun kabisat dengan for\n",
    "n = int(input())\n",
    "\n",
    "for i in range (n):\n",
    "    tahun = int(input())\n",
    "    kabisat = tahun % 400 == 0 or tahun % 4 ==0 and tahun % 100 != 0\n",
    "    print(kabisat)"
   ]
  },
  {
   "cell_type": "code",
   "execution_count": 85,
   "id": "6d09c49a",
   "metadata": {},
   "outputs": [
    {
     "name": "stdout",
     "output_type": "stream",
     "text": [
      "4\n",
      "1\n",
      "3\n"
     ]
    }
   ],
   "source": [
    "#8 masukan bilangan bulat (n), output merupakan bilangan ganjil yang kurang dari n\n",
    "n = int(input())\n",
    "\n",
    "for i in range (n):\n",
    "    if (i % 2 != 0):\n",
    "        print(i)\n"
   ]
  },
  {
   "cell_type": "code",
   "execution_count": 95,
   "id": "fea3fa87",
   "metadata": {},
   "outputs": [
    {
     "name": "stdout",
     "output_type": "stream",
     "text": [
      "4\n",
      "1\n",
      "2\n",
      "3\n",
      "4\n",
      "2.5\n"
     ]
    }
   ],
   "source": [
    "#9 masukan banyaknya data, dan keluaran berupa rata-rata dari jumlah deret tersebut\n",
    "n = int(input())\n",
    "i = 0\n",
    "jumlah = 0\n",
    "while i < n:\n",
    "    i = i+1\n",
    "    print(i)\n",
    "    jumlah = jumlah + i\n",
    "rata_rata = jumlah/n\n",
    "print(rata_rata)"
   ]
  },
  {
   "cell_type": "code",
   "execution_count": 111,
   "id": "d9c85f60",
   "metadata": {},
   "outputs": [
    {
     "name": "stdout",
     "output_type": "stream",
     "text": [
      "7\n",
      "7 ! adalah 5040\n"
     ]
    }
   ],
   "source": [
    "#10 Menghitung Faktorial\n",
    "n = int(input())\n",
    "i = 0\n",
    "jumlah = 1\n",
    "while i < n:\n",
    "    i = i+1\n",
    "    jumlah = jumlah * i\n",
    "print(n,\"! adalah\",jumlah)\n",
    "\n"
   ]
  }
 ],
 "metadata": {
  "kernelspec": {
   "display_name": "Python 3",
   "language": "python",
   "name": "python3"
  },
  "language_info": {
   "codemirror_mode": {
    "name": "ipython",
    "version": 3
   },
   "file_extension": ".py",
   "mimetype": "text/x-python",
   "name": "python",
   "nbconvert_exporter": "python",
   "pygments_lexer": "ipython3",
   "version": "3.8.8"
  }
 },
 "nbformat": 4,
 "nbformat_minor": 5
}
